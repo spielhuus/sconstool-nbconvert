{
 "cells": [
  {
   "cell_type": "markdown",
   "metadata": {},
   "source": [
    "# essential software\n",
    "  \n",
    "The software used to create the notebooks, schematics and PCB's.  \n",
    "\n",
    "* [KiCad EDA](https://kicad-pcb.org/) A Cross Platform and Open Source Electronics Design Automation Suite.\n",
    "* [Visual Studio Code](https://code.visualstudio.com/) free code editor from microsoft. jupyter notebooks can be executed and previewed in code.\n",
    "* [ngspice](http://ngspice.sourceforge.net/index.html) is an open source spice simulator for electric and electronic circuits.\n",
    "* [PySpice](https://pyspice.fabrice-salvaire.fr/releases/v1.4/overview.html) is an open source Python module which provides a Python interface to the Ngspice and Xyce circuit simulators.\n",
    "* [Jupyter](https://jupyter.org/) interactive Python notebook."
   ]
  },
  {
   "cell_type": "markdown",
   "metadata": {},
   "source": [
    "in most linux distributions the open source version of visual studio code is installed. Some of the extensions will not be available in this version. The original MS version is needed.\n",
    "\n",
    "install the MS version of code in arch linux:\n",
    "\n",
    "```bash\n",
    "git clone https://aur.archlinux.org/visual-studio-code-bin.git  \n",
    "cd visual-studio-code-bin \n",
    "makepkg -si\n",
    "```"
   ]
  },
  {
   "cell_type": "markdown",
   "metadata": {},
   "source": [
    "and install the python extension:\n",
    "\n",
    "\n",
    "```bash\n",
    "code --install-extension ms-python.python  \n",
    "```"
   ]
  },
  {
   "cell_type": "markdown",
   "metadata": {},
   "source": [
    "# kicad installation\n",
    "\n",
    "In KiCad the libraries have to be added. \n",
    "The Symbols, Footprints and templates can be found in $(ELEKTROPHON)/lib/kicad"
   ]
  },
  {
   "cell_type": "markdown",
   "metadata": {},
   "source": [
    "## python packages\n",
    "  \n",
    "The notebooks and simulations require some python packages. These packages can be installed with conda.\n",
    "  \n",
    "* [miniconda](https://www.anaconda.com/) Manage python packages and environments.\n",
    "  \n",
    "To install conda on your operating systems follow the official guides.\n",
    "  \n",
    "* [windows](https://conda.io/projects/conda/en/latest/user-guide/install/windows.html)\n",
    "* [linux](https://conda.io/projects/conda/en/latest/user-guide/install/linux.html)\n",
    "* [macOS](https://conda.io/projects/conda/en/latest/user-guide/install/macos.html)"
   ]
  },
  {
   "cell_type": "markdown",
   "metadata": {},
   "source": [
    "For installing all the required packages create a conda environment with the [environment.yml](https://github.com/spielhuus/elektrophon/blob/master/environment.yml) file in the root folder of the elektrophon github repository.\n",
    "\n",
    "\n",
    "```bash\n",
    "conda env create -f environment.yml\n",
    "conda activate elektrophon\n",
    "```"
   ]
  },
  {
   "cell_type": "markdown",
   "metadata": {},
   "source": [
    "The following packages will be installed:\n",
    "  \n",
    "* [Matplotlib](https://matplotlib.org/) is a comprehensive library for creating static, animated, and interactive visualizations in Python.\n",
    "* [NumPy](https://numpy.org/) The fundamental package for scientific computing with Python.\n",
    "* [SciPy](https://www.scipy.org/) is a Python-based ecosystem of open-source software for mathematics, science, and engineering.\n",
    "* [SymPy](https://www.sympy.org/en/index.html) is a Python library for symbolic mathematics.\n",
    "* [pandas](https://pandas.pydata.org/) is a fast, powerful, flexible and easy to use open source data analysis and manipulation tool.\n",
    "* [PySpice](https://pyspice.fabrice-salvaire.fr/) Simulate electronic circuit using Python and the Ngspice / Xyce simulators\n",
    "* [SchemDraw](https://schemdraw.readthedocs.io/en/latest/index.html) Schemdraw is a Python package for producing high-quality electrical circuit schematic diagrams. \n",
    "* [itikz](https://github.com/jbn/itikz) Cell magic for PGF/TikZ-to-SVG rendering in Jupyter."
   ]
  },
  {
   "cell_type": "markdown",
   "metadata": {},
   "source": [
    "Itikz requires additional native packages (example in arch linux)\n",
    "\n",
    "```bash\n",
    "pacman -Sy install texlive-bin texlive-latex-extra texlive-pictures texlive-science imagemagick pdf2svg\n",
    "```"
   ]
  },
  {
   "cell_type": "markdown",
   "metadata": {},
   "source": [
    "# STM32 development\n",
    "\n",
    "STM32 firmare is developed in visual studio code. The following extensions needs to be installed.\n",
    "\n",
    "```bash\n",
    "code --install-extension ms-vscode.cpptools \n",
    "code --install-extension marus25.cortex-debug       \n",
    "code --install-extension dan-c-underwood.arm   \n",
    "code --install-extension zixuanwang.linkerscript   \n",
    "```\n"
   ]
  },
  {
   "cell_type": "markdown",
   "metadata": {},
   "source": [
    "install the development tools in arch linux:\n",
    "\n",
    "```bash\n",
    "sudo pacman -Sy openocd stlink arm-none-eabi-gcc arm-none-eabi-gdb arm-none-eabi-newlib\n",
    "```\n",
    "\n",
    "## trouble shooting\n",
    "\n",
    "### wrong idcode\n",
    "\n",
    "for some cheap STM32 boards from china the wrong processor id is returned. These are most likely clones of the orginial chip.\n",
    "\n",
    "```\n",
    "Warn : UNEXPECTED idcode: 0x2ba01477\n",
    "Error: expected 1 of 1: 0x1ba01477\n",
    "```\n",
    "\n",
    "replace the chip id in the st-link description file.\n",
    "\n",
    "### locked chip\n",
    "\n",
    "When the firmware is installed without the SWD debug option, the chip is locked and no other firmware can be installed.\n",
    "\n",
    "check if the chip is locked:\n",
    "\n",
    "```\n",
    "st-info --probe\n",
    "\n",
    "Found 1 stlink programmers\n",
    " serial: 533f6b064975524918500267\n",
    "openocd: \"\\x53\\x3f\\x6b\\x06\\x49\\x75\\x52\\x49\\x18\\x50\\x02\\x67\"\n",
    "  flash: 65536 (pagesize: 1024)\n",
    "   sram: 20480\n",
    " chipid: 0x0410\n",
    "  descr: F1 Medium-density device\n",
    "```\n",
    "\n",
    "when chip is locked st-info --probe return flash: 0. \n",
    "\n",
    "unlock the chip using openocd:\n",
    "\n",
    "```\n",
    "openocd -f interface/stlink-v2.cfg \\\n",
    "   -f target/stm32f1x.cfg \\       \n",
    "   -c \"init; reset halt; stm32f1x unlock 0; reset halt; exit\"\n",
    "```\n"
   ]
  },
  {
   "cell_type": "markdown",
   "metadata": {},
   "source": [
    "# web page\n",
    "\n",
    "If you want to build the web page on your own you can use the [docker image](https://github.com/spielhuus/elektrophon/tree/master/docker).\n",
    "\n",
    "* [Jekyll](https://jekyllrb.com/) Transform your plain text into static websites and blogs.\n",
    "* [Bulma](https://bulma.io/) Bulma is a free, open source framework that provides ready-to-use frontend components that you can easily combine to build responsive web interfaces.\n",
    "* [KiBot](https://github.com/INTI-CMNB/kibot) is a program which helps you to generate the fabrication and documentation files for your KiCad projects"
   ]
  },
  {
   "cell_type": "markdown",
   "metadata": {},
   "source": [
    "# other software\n",
    "\n",
    "* [audacity](https://www.audacityteam.org/) Free, open source, cross-platform audio software"
   ]
  }
 ],
 "metadata": {
  "FrontMatter": {
   "author": "spielhuus",
   "category": "article",
   "date": "2020-12-01",
   "excerpt": "The elektrophon is developed with a continuous development lifecycle. The circuits for the modules and articles are first simulated with spice. Jupyter notebooks are used to edit and run the simulations. In these notebooks also the images and other content is created. To run the notebooks you need to install the required software. Here is a list of all the needed software and tools.",
   "hero_darken": "true",
   "hero_height": "is-fullheight",
   "hero_image": "/assets/arbeitsplatz-hero_landscape.jpg",
   "hero_mobile": "/assets/arbeitsplatz-hero_portrait.jpg",
   "hero_subtitle": "true",
   "hero_title": "true",
   "image": "/assets/arbeitsplatz.jpg",
   "layout": "article",
   "subtitle": "All the necessary applications for developing the elektrophon.",
   "tag": "grundlage",
   "title": "arbeitsplatz",
   "version": "0"
  },
  "kernelspec": {
   "display_name": "Python 3 (ipykernel)",
   "language": "python",
   "name": "python3"
  },
  "language_info": {
   "codemirror_mode": {
    "name": "ipython",
    "version": 3
   },
   "file_extension": ".py",
   "mimetype": "text/x-python",
   "name": "python",
   "nbconvert_exporter": "python",
   "pygments_lexer": "ipython3",
   "version": "3.9.6"
  }
 },
 "nbformat": 4,
 "nbformat_minor": 4
}
